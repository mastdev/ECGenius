{
 "cells": [
  {
   "cell_type": "code",
   "execution_count": null,
   "metadata": {},
   "outputs": [],
   "source": [
    "############ Standard: No need to change ############\n",
    "\n",
    "import os\n",
    "import sys\n",
    "module_path = os.path.dirname(os.getcwd())\n",
    "if module_path not in sys.path:\n",
    "    sys.path.append(module_path)"
   ]
  },
  {
   "cell_type": "code",
   "execution_count": null,
   "metadata": {},
   "outputs": [],
   "source": [
    "############ Hyperparameters ############\n",
    "\n",
    "learning_rate = 1e-3\n",
    "weight_decay = 1e-7\n",
    "num_epochs = 10\n",
    "\n",
    "load_model_from_disk = False\n",
    "save_model_to_disk = True\n",
    "\n",
    "############ Model Selection ############\n",
    "\n",
    "from models.rvenet.ResNetLSTM import ResNetLSTM\n",
    "model = ResNetLSTM()"
   ]
  },
  {
   "cell_type": "code",
   "execution_count": null,
   "metadata": {},
   "outputs": [],
   "source": [
    "############ Standard: No need to change ############\n",
    "\n",
    "import torch\n",
    "import numpy as np\n",
    "\n",
    "import json\n",
    "with open(os.path.join(module_path, 'setup', 'environment.json'), 'r') as f:\n",
    "    environment = json.load(f)\n",
    "\n",
    "# Might be faster because tmp dir is not in NFS\n",
    "os.environ['TEMP'] = environment['new_temp_folder']\n",
    "os.environ['TEMPDIR'] = environment['new_temp_folder']\n",
    "\n",
    "# autoreload imports\n",
    "%load_ext autoreload\n",
    "%autoreload 2\n",
    "\n",
    "is_cuda = torch.cuda.is_available()\n",
    "\n",
    "from multiprocessing import util\n",
    "util.get_temp_dir()"
   ]
  },
  {
   "cell_type": "code",
   "execution_count": null,
   "metadata": {},
   "outputs": [],
   "source": [
    "############ Standard: No need to change ############\n",
    "\n",
    "from runner import Trainer\n",
    "\n",
    "optimizer = torch.optim.Adam(model.parameters(), lr=learning_rate, weight_decay=weight_decay)\n",
    "trainer = Trainer(\n",
    "    environment=environment,\n",
    "    model=model,\n",
    "    optimizer=optimizer,\n",
    "    model_dir=os.path.join(environment['model_checkpoint_path'], model.__class__.__name__),\n",
    "    train_data_transforms=None,\n",
    "    val_data_transforms=None,\n",
    "    batch_size=32,\n",
    "    load_from_disk=load_model_from_disk,\n",
    "    cuda=is_cuda,\n",
    ")\n",
    "trainer.run_training_loop(num_epochs=num_epochs)\n",
    "trainer.plot_loss_history()\n",
    "trainer.plot_predictions()\n",
    "\n",
    "if save_model_to_disk:\n",
    "    trainer.save_model()"
   ]
  },
  {
   "cell_type": "code",
   "execution_count": null,
   "metadata": {},
   "outputs": [],
   "source": [
    "############ Standard: No need to change ############\n",
    "\n",
    "trainer.model.eval()\n",
    "\n",
    "predicted_values = []\n",
    "actual_values = []\n",
    "\n",
    "with torch.no_grad():\n",
    "    for (x, y) in trainer.val_loader:\n",
    "        if trainer.cuda:\n",
    "            x = x.cuda()\n",
    "            y = y.cuda()\n",
    "\n",
    "        predictions = trainer.model(x)\n",
    "\n",
    "        predicted_values.extend(predictions.cpu().numpy())\n",
    "        actual_values.extend(y.cpu().numpy())\n",
    "\n",
    "actual_values = np.array(actual_values).squeeze()\n",
    "predicted_values = np.array(predicted_values).squeeze()\n",
    "\n",
    "# Show some values for comparison\n",
    "show_values = 10\n",
    "random_idx = np.random.randint(0, len(predicted_values), show_values, dtype=int)\n",
    "\n",
    "import pandas as pd\n",
    "print(pd.DataFrame({\"Actual\":actual_values[random_idx],\"Predicted\":predicted_values[random_idx]}))\n"
   ]
  }
 ],
 "metadata": {
  "kernelspec": {
   "display_name": "cs7641_project",
   "language": "python",
   "name": "python3"
  },
  "language_info": {
   "codemirror_mode": {
    "name": "ipython",
    "version": 3
   },
   "file_extension": ".py",
   "mimetype": "text/x-python",
   "name": "python",
   "nbconvert_exporter": "python",
   "pygments_lexer": "ipython3",
   "version": "3.8.20"
  }
 },
 "nbformat": 4,
 "nbformat_minor": 4
}
